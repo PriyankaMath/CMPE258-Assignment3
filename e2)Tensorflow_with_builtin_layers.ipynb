{
  "nbformat": 4,
  "nbformat_minor": 0,
  "metadata": {
    "colab": {
      "name": "e2)Tensorflow_with_builtin layers.ipynb",
      "provenance": [],
      "authorship_tag": "ABX9TyPo9eBr/n8OfpN1n7vG5r7S",
      "include_colab_link": true
    },
    "kernelspec": {
      "name": "python3",
      "display_name": "Python 3"
    },
    "language_info": {
      "name": "python"
    }
  },
  "cells": [
    {
      "cell_type": "markdown",
      "metadata": {
        "id": "view-in-github",
        "colab_type": "text"
      },
      "source": [
        "<a href=\"https://colab.research.google.com/github/PriyankaMath/CMPE258-Assignment3/blob/main/e2)Tensorflow_with_builtin_layers.ipynb\" target=\"_parent\"><img src=\"https://colab.research.google.com/assets/colab-badge.svg\" alt=\"Open In Colab\"/></a>"
      ]
    },
    {
      "cell_type": "code",
      "source": [
        "import numpy as np\n",
        "from tensorflow import keras\n",
        "from tensorflow.keras import layers\n",
        "from tensorflow.keras import optimizers\n",
        "import tensorflow as tf"
      ],
      "metadata": {
        "id": "LaaYJ2nOvZjo"
      },
      "execution_count": null,
      "outputs": []
    },
    {
      "cell_type": "markdown",
      "source": [
        "### Prepare data"
      ],
      "metadata": {
        "id": "3hgRVCGHJ1Wo"
      }
    },
    {
      "cell_type": "code",
      "source": [
        "n = 200\n",
        "input_dim = 3\n",
        "output_dim = 2\n",
        "\n",
        "x = tf.Variable(tf.random.uniform(shape=(n, input_dim)))\n",
        "weights_true = tf.Variable(tf.random.uniform(shape=(input_dim, output_dim)))\n",
        "bias_true = tf.Variable(tf.zeros(shape=(output_dim,)))\n",
        "\n",
        "y = tf.matmul(tf.pow(x,2), weights_true) + tf.matmul(x, weights_true) + bias_true\n",
        "\n",
        "print(f'x: {x.shape}, weights: {weights_true.shape}, bias: {bias_true.shape}, y: {y.shape}')"
      ],
      "metadata": {
        "colab": {
          "base_uri": "https://localhost:8080/"
        },
        "id": "WbJ0XXhsvaFd",
        "outputId": "956b0517-1dd3-403a-b231-c134a00555dc"
      },
      "execution_count": null,
      "outputs": [
        {
          "output_type": "stream",
          "name": "stdout",
          "text": [
            "x: (200, 3), weights: (3, 2), bias: (2,), y: (200, 2)\n"
          ]
        }
      ]
    },
    {
      "cell_type": "markdown",
      "source": [
        "### Defining Model and Loss"
      ],
      "metadata": {
        "id": "8_8xJfy7vdzC"
      }
    },
    {
      "cell_type": "code",
      "source": [
        "def predictions(x, weights, bias):\n",
        "    return tf.matmul(tf.pow(x,2), weights) + tf.matmul(x, weights) + bias\n",
        "\n",
        "def compute_loss(y_true, y_pred):\n",
        "    return tf.reduce_mean(tf.square(y_true - y_pred))\n",
        "\n",
        "input_dim = 3\n",
        "output_dim = 2\n",
        "\n",
        "w = tf.Variable(tf.random.uniform(shape=(input_dim, output_dim)))\n",
        "b = tf.Variable(tf.zeros(shape=(output_dim,)))\n",
        "\n",
        "learning_rate = 1e-3"
      ],
      "metadata": {
        "id": "gOdD-qBVvcLj"
      },
      "execution_count": null,
      "outputs": []
    },
    {
      "cell_type": "code",
      "source": [
        "def train_on_batch(x, y, w, b):\n",
        "  with tf.GradientTape() as tape:\n",
        "    predict = predictions(x, w, b)\n",
        "    loss = compute_loss(y, predict)\n",
        "    # tape.gradient works with a list as well (w, b).\n",
        "    dloss_dw, dloss_db = tape.gradient(loss, [w, b])\n",
        "  w.assign_sub(learning_rate * dloss_dw)\n",
        "  b.assign_sub(learning_rate * dloss_db)\n",
        "  return predict, loss\n",
        "\n",
        "# Shuffle the data\n",
        "dataset = tf.data.Dataset.from_tensor_slices((x, y))\n",
        "dataset = dataset.shuffle(buffer_size=1024).batch(256)\n",
        "\n",
        "for epoch in range(5000):\n",
        "  for step, (x, y) in enumerate(dataset):\n",
        "    y_pred, loss = train_on_batch(x, y, w, b)\n",
        "  if epoch % 500 ==0:\n",
        "    print('Epoch %d: last batch loss = %.4f' % (epoch, float(loss)))"
      ],
      "metadata": {
        "colab": {
          "base_uri": "https://localhost:8080/"
        },
        "id": "jjkwdkfHvi7y",
        "outputId": "03a5273e-34f0-4fc2-adc0-bfe8cb005b80"
      },
      "execution_count": null,
      "outputs": [
        {
          "output_type": "stream",
          "name": "stdout",
          "text": [
            "Epoch 0: last batch loss = 0.1733\n",
            "Epoch 500: last batch loss = 0.0595\n",
            "Epoch 1000: last batch loss = 0.0399\n",
            "Epoch 1500: last batch loss = 0.0286\n",
            "Epoch 2000: last batch loss = 0.0206\n",
            "Epoch 2500: last batch loss = 0.0148\n",
            "Epoch 3000: last batch loss = 0.0107\n",
            "Epoch 3500: last batch loss = 0.0077\n",
            "Epoch 4000: last batch loss = 0.0056\n",
            "Epoch 4500: last batch loss = 0.0041\n"
          ]
        }
      ]
    },
    {
      "cell_type": "markdown",
      "source": [
        "### Visualizing the plot using TSNE"
      ],
      "metadata": {
        "id": "r7IFPFo6K3ef"
      }
    },
    {
      "cell_type": "code",
      "source": [
        "import matplotlib.pyplot as plt\n",
        "from sklearn.manifold import TSNE\n",
        "\n",
        "def plot(x, y_true, y_pred):\n",
        "  tsne = TSNE(n_components=1, random_state=0)\n",
        "  x_2d = tsne.fit_transform(x)\n",
        "  yt_2d = tsne.fit_transform(y_true)\n",
        "  yp_2d = tsne.fit_transform(y_pred)\n",
        "\n",
        "  plt.figure(figsize=(6, 5))\n",
        "  plt.scatter(x_2d[:, 0], yt_2d[:, 0], c='b', label='y_true')\n",
        "  plt.scatter(x_2d[:, 0], yp_2d[:, 0], c='y', label='y_pred')\n",
        "  plt.legend()\n",
        "  plt.title('TSNE plot for y_true and y_pred distribution with X')\n",
        "  plt.show()\n",
        "\n",
        "def plot_3d(x, y, y_pred=None):\n",
        "  import matplotlib.pyplot as plt\n",
        "  from mpl_toolkits.mplot3d import Axes3D\n",
        "  fig = plt.figure()\n",
        "  ax = fig.add_subplot(111, projection='3d')\n",
        "  ax.scatter(x[:, 0], x[:, 1], y, label='y_true')\n",
        "  if y_pred is not None:\n",
        "    ax.scatter(x[:, 0], x[:, 1], y_pred, label='y_pred')\n",
        "  plt.legend()"
      ],
      "metadata": {
        "id": "sXKYeEmOvlBg"
      },
      "execution_count": null,
      "outputs": []
    },
    {
      "cell_type": "code",
      "source": [
        "plot(x, y, y_pred)\n",
        "plot_3d(x, y[:, 0], y_pred=y_pred[:, 0])"
      ],
      "metadata": {
        "colab": {
          "base_uri": "https://localhost:8080/"
        },
        "id": "OX-u2tqGv4sK",
        "outputId": "c9ddfd64-0abb-45f4-9dba-054f5b088edf"
      },
      "execution_count": null,
      "outputs": [
        {
          "output_type": "stream",
          "name": "stderr",
          "text": [
            "/usr/local/lib/python3.7/dist-packages/sklearn/manifold/_t_sne.py:783: FutureWarning: The default initialization in TSNE will change from 'random' to 'pca' in 1.2.\n",
            "  FutureWarning,\n",
            "/usr/local/lib/python3.7/dist-packages/sklearn/manifold/_t_sne.py:793: FutureWarning: The default learning rate in TSNE will change from 200.0 to 'auto' in 1.2.\n",
            "  FutureWarning,\n"
          ]
        }
      ]
    }
  ]
}